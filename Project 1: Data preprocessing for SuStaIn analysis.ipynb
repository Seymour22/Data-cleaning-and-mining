{
 "cells": [
  {
   "cell_type": "markdown",
   "id": "aa6d8522",
   "metadata": {
    "id": "aa6d8522"
   },
   "source": [
    "# Data Preprocessing for SuStaIn analysis"
   ]
  },
  {
   "cell_type": "code",
   "execution_count": null,
   "id": "4a65cc44",
   "metadata": {
    "id": "4a65cc44"
   },
   "outputs": [],
   "source": [
    "import pandas as pd\n",
    "import numpy as np\n",
    "import neuroCombat\n",
    "import matplotlib.pyplot as plt\n",
    "import seaborn as sns\n",
    "from scipy.linalg import svd\n",
    "import os, sys"
   ]
  },
  {
   "cell_type": "markdown",
   "id": "29833b04",
   "metadata": {},
   "source": [
    "This notebook lays out data cleaning and preprocessing steps to investigate the disease progression based subtyping [(SuStaIn)](https://www.nature.com/articles/s41467-018-05892-0) of patients with epilepsy using the [ENIGMA](https://enigma.ini.usc.edu/) dataset. Please note that the results have been withheld to safeguard data protection."
   ]
  },
  {
   "cell_type": "code",
   "execution_count": null,
   "id": "bigger-supplement",
   "metadata": {
    "id": "bigger-supplement"
   },
   "outputs": [],
   "source": [
    "#Some measures acquired from T1W MRI contains missing values. In order to impute these values, we first use  \n",
    "#SVD (Singular Value Decomposition) which factorises the input matrix as a product of U, S and V matrices. \n",
    "#The second step is to regenerate the input matix from the dot product of U*S*V. \n",
    "#In the third step we simply substitute the newly generated values in place of the values missing from the original\n",
    "#matrix.\n",
    "\n",
    "#Here, input is data matrix M, and SVD components k to use for reconstructions, epsilon is the minimal\n",
    "#improvment between interations (may be data dependent)\n",
    "#NOTE: if k is too large we may reintroduce noise, best: screen for good k by generating missing data\n",
    "def SVDimpute(M, k=5, eps=0.001):\n",
    "    #center matrix\n",
    "    cmeans = np.nanmean(M, axis=0)\n",
    "    csds = np.nanstd(M, axis=0)\n",
    "    #csds = np.ones(cmeans.shape)\n",
    "    M1 = (M - cmeans)/csds\n",
    "\n",
    "    #replace missing data with 0 (i.e., mean imputation)\n",
    "    M2 = np.copy(M1)\n",
    "    missing = np.isnan(M1)\n",
    "    M2[missing] = 0.0\n",
    "    \n",
    "    diff = 100000000\n",
    "    while diff > eps:\n",
    "        U, s, Vh = svd(M2)\n",
    "        sigma = np.zeros(M.shape)\n",
    "        for i in range(min(M.shape)):\n",
    "            sigma[i, i] = s[i]        \n",
    "        recon = np.dot(U[:,0:k], np.dot(sigma[0:k,0:k], Vh[0:k,:]))\n",
    "        diff = np.sum((M2[missing] - recon[missing])**2)\n",
    "        #print(diff)\n",
    "        M2[missing] = recon[missing]\n",
    "    res = np.copy(M2) * csds + cmeans\n",
    "    return res"
   ]
  },
  {
   "cell_type": "code",
   "execution_count": null,
   "id": "corresponding-alcohol",
   "metadata": {
    "id": "corresponding-alcohol"
   },
   "outputs": [],
   "source": [
    "def optSVDimpute(M, eps=0.01, ks=np.arange(2,20)):\n",
    "    #generate 5% missing data\n",
    "    miss = np.random.rand(M.shape[0], M.shape[1]) > 0.95\n",
    "    tmp = np.copy(M)\n",
    "    tmp[miss] = np.nan\n",
    "    \n",
    "    best_k = 0\n",
    "    best_diff = 100000000\n",
    "    for k in ks:\n",
    "        tmp_imp = SVDimpute(tmp, k, eps)\n",
    "        ttt = (tmp_imp[miss] - M[miss])**2\n",
    "        ttt[np.isnan(ttt)] = 0\n",
    "        diff=np.sqrt(sum(ttt))\n",
    "        if diff < best_diff:\n",
    "            best_k = k\n",
    "            best_diff = diff\n",
    "            print(best_k)\n",
    "            print(best_diff)\n",
    "    return SVDimpute(M, best_k, eps)"
   ]
  },
  {
   "cell_type": "code",
   "execution_count": null,
   "id": "polar-empty",
   "metadata": {
    "id": "polar-empty"
   },
   "outputs": [],
   "source": [
    "#That is simply area \\times avgthick\n",
    "def generateVolFeature(dat, rois, lat='L'):\n",
    "    res = pd.DataFrame()\n",
    "    fnames = []\n",
    "    for roi in rois:\n",
    "        tmp = dat.loc[:, lat + \"_\" + roi + \"_surfavg\"] * dat.loc[:, lat + \"_\" + roi + \"_thickavg\"]\n",
    "        fnames.append(lat + \"_\" + roi + \"_volume\")\n",
    "        res = pd.concat([res, tmp], axis=1)\n",
    "    res.index = dat.index\n",
    "    res.columns = fnames\n",
    "    return(res)\n"
   ]
  },
  {
   "cell_type": "code",
   "execution_count": null,
   "id": "honest-double",
   "metadata": {
    "id": "honest-double"
   },
   "outputs": [],
   "source": [
    "def generateLobeFeature(dat, assign, lat='L', feat='surfavg'):\n",
    "    res = pd.DataFrame()\n",
    "    fnames=[]\n",
    "    for lobe in assign:\n",
    "        roilist = assign[lobe]\n",
    "        tmp_feat = []\n",
    "        for roi in roilist:\n",
    "            tmp_feat.append(lat + \"_\" + roi + \"_\" + feat)\n",
    "        tmp = dat.loc[:,tmp_feat].apply(lambda x: np.sum(x), axis=1)\n",
    "        fnames.append(lat + \"_\" + lobe + \"_\" + feat)\n",
    "        res = pd.concat([res, tmp], axis=1)\n",
    "    res.index = dat.index\n",
    "    res.columns=fnames\n",
    "    return(res)\n"
   ]
  },
  {
   "cell_type": "code",
   "execution_count": null,
   "id": "neutral-muscle",
   "metadata": {
    "id": "neutral-muscle"
   },
   "outputs": [],
   "source": [
    "def cohenD(y, idx):\n",
    "    mdiff = y[idx].mean() - y[~idx].mean()\n",
    "    return(mdiff/y.std())\n",
    "\n",
    "def robustCohenD(y, idx):\n",
    "    mdiff = y[idx].median() - y[~idx].median()\n",
    "    m1 = y.median()\n",
    "    mad = np.median(np.abs(y - m1))\n",
    "    return (mdiff/ (1.4826 * mad ) )"
   ]
  },
  {
   "cell_type": "code",
   "execution_count": null,
   "id": "taken-boost",
   "metadata": {
    "id": "taken-boost"
   },
   "outputs": [],
   "source": [
    "from sklearn import linear_model\n",
    "\n",
    "#using a linear model\n",
    "def regressOut(y, X, use_fit=None):\n",
    "    lm = linear_model.LinearRegression()    \n",
    "    if use_fit is None:\n",
    "        use_fit = [True] * X.shape[0]\n",
    "    else:\n",
    "        use_fit = use_fit.values\n",
    "\n",
    "    x_mean = X.iloc[use_fit,:].mean()\n",
    "    lm.fit(X.loc[use_fit,:].values, y.loc[use_fit])\n",
    "    yhat = lm.predict(X.values)\n",
    "    #residual\n",
    "    res = y - yhat\n",
    "    #add intercept and average of X\n",
    "    #offset = lm.intercept_ + lm.predict(x_mean.values.reshape(1, -1))\n",
    "    offset = lm.predict(x_mean.values.reshape(1, -1))\n",
    "    #toadd = lm.intercept_ + lm.coef_ * X.mean()\n",
    "    #return(res + toadd)\n",
    "    return(res + offset)"
   ]
  },
  {
   "cell_type": "markdown",
   "id": "extended-promotion",
   "metadata": {
    "id": "extended-promotion"
   },
   "source": [
    "## Prepare T1W data"
   ]
  },
  {
   "cell_type": "code",
   "execution_count": null,
   "id": "591e77a9",
   "metadata": {
    "colab": {
     "base_uri": "https://localhost:8080/",
     "height": 300
    },
    "id": "591e77a9",
    "outputId": "427536f8-7431-4b5c-84a6-db7ad376b4c1"
   },
   "outputs": [],
   "source": [
    "#load t1 data\n",
    "t1_dat = pd.read_csv(mypath + \"T1_data_all_20220114.csv\", index_col=0)\n",
    "t1_dat.head()"
   ]
  },
  {
   "cell_type": "code",
   "execution_count": null,
   "id": "analyzed-murder",
   "metadata": {
    "id": "analyzed-murder"
   },
   "outputs": [],
   "source": [
    "# fix ICV\n",
    "t1_dat.loc[:,\"ICV\":\"ICV.3\"] = t1_dat.loc[:,\"ICV\":\"ICV.3\"].apply(lambda x: pd.to_numeric(x, errors='coerce'), axis=0)\n",
    "t1_dat.ICV = t1_dat.loc[:,\"ICV.3\"]\n",
    "t1_dat.loc[np.isnan(t1_dat.ICV),\"ICV\"] = np.nanmedian(t1_dat.ICV)"
   ]
  },
  {
   "cell_type": "code",
   "execution_count": null,
   "id": "direct-island",
   "metadata": {
    "id": "direct-island"
   },
   "outputs": [],
   "source": [
    "#remove t1s with too much missing data\n",
    "#t1_dat.loc[:, \"LLatVent\":\"R_insula_surfavg\"].apply(lambda x: sum(np.isnan(x)), axis=1).value_counts()\n",
    "#let's take 20 as a cutoff based on the above\n",
    "keep_idx = t1_dat.loc[:, \"LLatVent\":\"R_insula_surfavg\"].apply(lambda x: sum(np.isnan(x)), axis=1) < 20"
   ]
  },
  {
   "cell_type": "code",
   "execution_count": null,
   "id": "reflected-offset",
   "metadata": {
    "id": "reflected-offset"
   },
   "outputs": [],
   "source": [
    "t1_dat = t1_dat[keep_idx]"
   ]
  },
  {
   "cell_type": "code",
   "execution_count": null,
   "id": "explicit-substitute",
   "metadata": {
    "id": "explicit-substitute"
   },
   "outputs": [],
   "source": [
    "subj_info = t1_dat.loc[:,'Site':'ICV']"
   ]
  },
  {
   "cell_type": "code",
   "execution_count": null,
   "id": "renewable-aviation",
   "metadata": {
    "id": "renewable-aviation"
   },
   "outputs": [],
   "source": [
    "kidx2 = ~subj_info.loc[:,'ICV'].isna() & ~subj_info.loc[:,'Age'].isna() & (subj_info.loc[:,'Age'] > 0.0) & (subj_info.Site != 'Genova')\n",
    "t1_dat = t1_dat[kidx2]\n"
   ]
  },
  {
   "cell_type": "code",
   "execution_count": null,
   "id": "primary-firmware",
   "metadata": {
    "id": "primary-firmware"
   },
   "outputs": [],
   "source": [
    "# split into types of features\n",
    "subj_info = t1_dat.loc[:,'Site':'ICV']\n",
    "subj_feat_sv  = t1_dat.loc[:,'LLatVent':'Raccumb']\n",
    "subj_feat_ct  = t1_dat.loc[:,'L_bankssts_thickavg':'R_insula_thickavg']\n",
    "subj_feat_sa  = t1_dat.loc[:,'L_bankssts_surfavg':'R_insula_surfavg']"
   ]
  },
  {
   "cell_type": "code",
   "execution_count": null,
   "id": "magnetic-pioneer",
   "metadata": {
    "colab": {
     "base_uri": "https://localhost:8080/"
    },
    "id": "magnetic-pioneer",
    "outputId": "381f0a3a-a9d2-458d-c134-776bde67da97"
   },
   "outputs": [],
   "source": [
    "subj_feat = pd.concat([ subj_feat_sv, subj_feat_ct, subj_feat_sa ], axis=1)\n",
    "subj_feat.index = subj_info.index\n",
    "subj_feat.shape"
   ]
  },
  {
   "cell_type": "markdown",
   "id": "detected-hurricane",
   "metadata": {
    "id": "detected-hurricane"
   },
   "source": [
    "### impute missing t1w data"
   ]
  },
  {
   "cell_type": "code",
   "execution_count": null,
   "id": "fitted-builder",
   "metadata": {
    "id": "fitted-builder"
   },
   "outputs": [],
   "source": [
    "centers = set(subj_info.Site)"
   ]
  },
  {
   "cell_type": "code",
   "execution_count": null,
   "id": "excited-harvest",
   "metadata": {
    "colab": {
     "base_uri": "https://localhost:8080/"
    },
    "id": "excited-harvest",
    "outputId": "9166197b-5f55-4224-aa1f-83e8240bd0c4"
   },
   "outputs": [],
   "source": [
    "subj_features_imputed = pd.DataFrame()\n",
    "subj_info_imp = pd.DataFrame()\n",
    "\n",
    "for site in centers:\n",
    "    print(site)\n",
    "    sidx = subj_info.Site == site\n",
    "    print(sum(sidx))\n",
    "    tmp  = pd.DataFrame(optSVDimpute(subj_feat[sidx].values))\n",
    "    subj_features_imputed = subj_features_imputed.append(tmp)\n",
    "    subj_info_imp = subj_info_imp.append(subj_info[sidx])\n"
   ]
  },
  {
   "cell_type": "code",
   "execution_count": null,
   "id": "united-jamaica",
   "metadata": {
    "colab": {
     "base_uri": "https://localhost:8080/"
    },
    "id": "united-jamaica",
    "outputId": "0ec28585-488a-48b8-8268-2ea6238e152c"
   },
   "outputs": [],
   "source": [
    "#add index and column names!\n",
    "subj_features_imputed.columns= subj_feat.columns\n",
    "subj_features_imputed.index  = subj_info_imp.index\n",
    "subj_info_imp.SDx.value_counts()"
   ]
  },
  {
   "cell_type": "markdown",
   "id": "offensive-wallet",
   "metadata": {
    "id": "offensive-wallet"
   },
   "source": [
    "### generate cortical volume features"
   ]
  },
  {
   "cell_type": "code",
   "execution_count": null,
   "id": "separate-penguin",
   "metadata": {
    "id": "separate-penguin"
   },
   "outputs": [],
   "source": [
    "myrois = [roi.replace(\"L_\",\"\").replace(\"_thickavg\",\"\") for roi in t1_dat.loc[:,'L_bankssts_thickavg':'L_insula_thickavg'].columns]\n"
   ]
  },
  {
   "cell_type": "code",
   "execution_count": null,
   "id": "paperback-persian",
   "metadata": {
    "id": "paperback-persian"
   },
   "outputs": [],
   "source": [
    "left_vol  = generateVolFeature(subj_features_imputed, myrois, \"L\")\n",
    "right_vol = generateVolFeature(subj_features_imputed, myrois, \"R\")\n",
    "\n",
    "subj_features_imputed_addvol = pd.concat([subj_features_imputed, left_vol, right_vol], axis=1)"
   ]
  },
  {
   "cell_type": "markdown",
   "id": "north-correspondence",
   "metadata": {
    "id": "north-correspondence"
   },
   "source": [
    "### generate lobe features"
   ]
  },
  {
   "cell_type": "code",
   "execution_count": null,
   "id": "typical-bradley",
   "metadata": {
    "id": "typical-bradley"
   },
   "outputs": [],
   "source": [
    "#Combine ROIs into lobes as defined in https://surfer.nmr.mgh.harvard.edu/fswiki/CorticalParcellation\n",
    "lobe_assign = {}\n",
    "lobe_assign['frontalL']  = ['superiorfrontal','rostralmiddlefrontal','caudalmiddlefrontal',\n",
    "                          'parsopercularis','parstriangularis','parsorbitalis',\n",
    "                         'lateralorbitofrontal','medialorbitofrontal','precentral',\n",
    "                         'paracentral','frontalpole']\n",
    "lobe_assign['parietalL'] = ['superiorparietal','inferiorparietal','supramarginal',\n",
    "                          'postcentral','precuneus']\n",
    "lobe_assign['temporalL'] = ['superiortemporal', 'middletemporal', 'inferiortemporal',\n",
    "                          'bankssts', 'fusiform', 'transversetemporal',\n",
    "                          'entorhinal', 'temporalpole', 'parahippocampal']\n",
    "lobe_assign['occipitalL']= ['lateraloccipital', 'lingual', 'cuneus', 'pericalcarine']\n",
    "lobe_assign['cingulateC']= ['rostralanteriorcingulate', 'caudalanteriorcingulate','posteriorcingulate',\n",
    "                          'isthmuscingulate']\n"
   ]
  },
  {
   "cell_type": "code",
   "execution_count": null,
   "id": "satisfactory-bearing",
   "metadata": {
    "id": "satisfactory-bearing"
   },
   "outputs": [],
   "source": [
    "left_vo  = generateLobeFeature(subj_features_imputed_addvol, lobe_assign, 'L', feat='volume')\n",
    "right_vo = generateLobeFeature(subj_features_imputed_addvol, lobe_assign, 'R', feat='volume')\n"
   ]
  },
  {
   "cell_type": "code",
   "execution_count": null,
   "id": "paperback-amazon",
   "metadata": {
    "id": "paperback-amazon"
   },
   "outputs": [],
   "source": [
    "subj_features_imputed_lobes = pd.concat([subj_features_imputed_addvol, left_vo, right_vo], axis=1)\n"
   ]
  },
  {
   "cell_type": "code",
   "execution_count": null,
   "id": "incredible-colleague",
   "metadata": {
    "id": "incredible-colleague"
   },
   "outputs": [],
   "source": [
    "#for this analysis we only want to keep subcortical volumes and lobe volumes\n",
    "keep_feat = list(subj_feat_sv.columns)\n",
    "keep_feat.extend(left_vo.columns)\n",
    "keep_feat.extend(right_vo.columns)"
   ]
  },
  {
   "cell_type": "code",
   "execution_count": null,
   "id": "administrative-sellers",
   "metadata": {
    "id": "administrative-sellers"
   },
   "outputs": [],
   "source": [
    "t1_dat_use = pd.concat( [subj_info_imp, subj_features_imputed_lobes.loc[:,keep_feat]], axis=1 )"
   ]
  },
  {
   "cell_type": "markdown",
   "id": "portable-recycling",
   "metadata": {
    "id": "portable-recycling"
   },
   "source": [
    "## Prepare DTI FA data"
   ]
  },
  {
   "cell_type": "code",
   "execution_count": null,
   "id": "b0461206",
   "metadata": {
    "colab": {
     "base_uri": "https://localhost:8080/",
     "height": 300
    },
    "id": "b0461206",
    "outputId": "93c73076-052f-4d5e-d01c-b5e7dfc56a7e"
   },
   "outputs": [],
   "source": [
    "#load FA data\n",
    "fa_dat = pd.read_csv(mypath + 'FA_matched.csv')\n",
    "fa_dat.head()"
   ]
  },
  {
   "cell_type": "code",
   "execution_count": null,
   "id": "extreme-damage",
   "metadata": {
    "colab": {
     "base_uri": "https://localhost:8080/"
    },
    "id": "extreme-damage",
    "outputId": "bd34807b-a250-461c-a4d1-ed5a7456a41b"
   },
   "outputs": [],
   "source": [
    "fa_dat.columns.values"
   ]
  },
  {
   "cell_type": "code",
   "execution_count": null,
   "id": "following-colombia",
   "metadata": {
    "id": "following-colombia"
   },
   "outputs": [],
   "source": [
    "keep_dti_bi_feats  = ['CST','EC','FX.ST','PTR','SLF','SS']\n",
    "keep_dti_agg_feats = ['IC','CR', 'FO', 'CG']\n",
    "keep_dti_feats     = ['CC']"
   ]
  },
  {
   "cell_type": "code",
   "execution_count": null,
   "id": "metric-david",
   "metadata": {
    "id": "metric-david"
   },
   "outputs": [],
   "source": [
    "# group DTI features\n",
    "dtigrp = {}\n",
    "#dtigrp['IC_manual'] = ['ALIC','PLIC','RLIC']\n",
    "#dtigrp['CR_manual'] = ['ACR','SCR','PCR']\n",
    "#dtigrp['CC_manual'] = ['GCC','BCC','SCC']\n",
    "dtigrp['CG'] = ['CGC','CGH']\n",
    "dtigrp['FO'] = ['IFO','SFO']\n"
   ]
  },
  {
   "cell_type": "code",
   "execution_count": null,
   "id": "beneficial-prisoner",
   "metadata": {
    "id": "beneficial-prisoner"
   },
   "outputs": [],
   "source": [
    "def aggregateROIs(df, roilist, lat=\"L\"):\n",
    "    rois = [ \".\".join( [x, lat]) for x in roilist]\n",
    "    tmp = df.loc[:, rois]\n",
    "    return (tmp.apply(np.mean, axis=1))"
   ]
  },
  {
   "cell_type": "code",
   "execution_count": null,
   "id": "sound-jonathan",
   "metadata": {
    "id": "sound-jonathan"
   },
   "outputs": [],
   "source": [
    "manual_dti = {}\n",
    "manual_dti['CG.L'] = aggregateROIs(fa_dat, dtigrp['CG'], \"L\")\n",
    "manual_dti['FO.L'] = aggregateROIs(fa_dat, dtigrp['FO'], \"L\")\n",
    "manual_dti['CG.R'] = aggregateROIs(fa_dat, dtigrp['CG'], \"R\")\n",
    "manual_dti['FO.R'] = aggregateROIs(fa_dat, dtigrp['FO'], \"R\")"
   ]
  },
  {
   "cell_type": "code",
   "execution_count": null,
   "id": "skilled-settle",
   "metadata": {
    "id": "skilled-settle"
   },
   "outputs": [],
   "source": [
    "manual_dti = pd.DataFrame(manual_dti)\n",
    "manual_dti.index = fa_dat.index"
   ]
  },
  {
   "cell_type": "code",
   "execution_count": null,
   "id": "systematic-sequence",
   "metadata": {
    "id": "systematic-sequence"
   },
   "outputs": [],
   "source": [
    "fa_dat2 = pd.concat([fa_dat, manual_dti], axis=1)"
   ]
  },
  {
   "cell_type": "code",
   "execution_count": null,
   "id": "accepted-homeless",
   "metadata": {
    "id": "accepted-homeless"
   },
   "outputs": [],
   "source": [
    "keep_cols = ['Site','SubjID', 'CC']\n",
    "for x in keep_dti_bi_feats:\n",
    "    keep_cols.append(x + \".L\")\n",
    "    keep_cols.append(x + \".R\")\n",
    "for x in keep_dti_agg_feats:\n",
    "    keep_cols.append(x + \".L\")\n",
    "    keep_cols.append(x + \".R\")    "
   ]
  },
  {
   "cell_type": "code",
   "execution_count": null,
   "id": "modern-mechanics",
   "metadata": {
    "id": "modern-mechanics"
   },
   "outputs": [],
   "source": [
    "fa_dat3 = fa_dat2.loc[:, keep_cols]"
   ]
  },
  {
   "cell_type": "code",
   "execution_count": null,
   "id": "random-austria",
   "metadata": {
    "colab": {
     "base_uri": "https://localhost:8080/"
    },
    "id": "random-austria",
    "outputId": "067ab6a9-1eee-4750-f978-9c7a327cdb0c"
   },
   "outputs": [],
   "source": [
    "fa_dat3.columns.values"
   ]
  },
  {
   "cell_type": "markdown",
   "id": "equipped-stadium",
   "metadata": {
    "id": "equipped-stadium"
   },
   "source": [
    "## Prepare MD data"
   ]
  },
  {
   "cell_type": "code",
   "execution_count": null,
   "id": "4552f72b",
   "metadata": {
    "colab": {
     "base_uri": "https://localhost:8080/",
     "height": 300
    },
    "id": "4552f72b",
    "outputId": "3a8d46cd-999d-4847-b53a-ac15d06dc208"
   },
   "outputs": [],
   "source": [
    "#load MD data\n",
    "md_dat = pd.read_csv(mypath + 'MD_matched.csv')\n",
    "md_dat.head()"
   ]
  },
  {
   "cell_type": "code",
   "execution_count": null,
   "id": "adf7b4bf",
   "metadata": {
    "id": "adf7b4bf"
   },
   "outputs": [],
   "source": [
    "#Exclude sites with outliers\n",
    "md_dat = md_dat[(md_dat.Site != 'EKUT') & (md_dat.Site != 'UMG')]"
   ]
  },
  {
   "cell_type": "code",
   "execution_count": null,
   "id": "108022af",
   "metadata": {
    "id": "108022af"
   },
   "outputs": [],
   "source": [
    "#remove subject 'EPICZ', 'subj_CON_100' who has a outlier value\n",
    "rm_sub = (md_dat.Site == 'EPICZ') & (md_dat.SubjID=='subj_CON_100')\n",
    "md_dat = md_dat[~rm_sub]"
   ]
  },
  {
   "cell_type": "code",
   "execution_count": null,
   "id": "dense-exception",
   "metadata": {
    "id": "dense-exception"
   },
   "outputs": [],
   "source": [
    "#deal with aggregate features\n",
    "manual_md = {}\n",
    "manual_md['CG.L'] = aggregateROIs(md_dat, dtigrp['CG'], \"L\")\n",
    "manual_md['FO.L'] = aggregateROIs(md_dat, dtigrp['FO'], \"L\")\n",
    "manual_md['CG.R'] = aggregateROIs(md_dat, dtigrp['CG'], \"R\")\n",
    "manual_md['FO.R'] = aggregateROIs(md_dat, dtigrp['FO'], \"R\")\n",
    "\n",
    "manual_md = pd.DataFrame(manual_md)\n",
    "manual_md.index = md_dat.index"
   ]
  },
  {
   "cell_type": "code",
   "execution_count": null,
   "id": "confident-chosen",
   "metadata": {
    "id": "confident-chosen"
   },
   "outputs": [],
   "source": [
    "md_dat2 = pd.concat([md_dat, manual_md], axis=1)"
   ]
  },
  {
   "cell_type": "code",
   "execution_count": null,
   "id": "satellite-relative",
   "metadata": {
    "id": "satellite-relative"
   },
   "outputs": [],
   "source": [
    "md_dat3 = md_dat2.loc[:, keep_cols]"
   ]
  },
  {
   "cell_type": "code",
   "execution_count": null,
   "id": "0e687ca9",
   "metadata": {
    "colab": {
     "base_uri": "https://localhost:8080/",
     "height": 300
    },
    "id": "0e687ca9",
    "outputId": "022e665f-7495-4314-836b-3751574e794e"
   },
   "outputs": [],
   "source": [
    "#merge DTI features\n",
    "dti_dat = fa_dat3.merge(md_dat3, on=['Site','SubjID'], suffixes=['_FA','_MD'])\n",
    "dti_dat.head()"
   ]
  },
  {
   "cell_type": "code",
   "execution_count": null,
   "id": "5bb23ef5",
   "metadata": {
    "colab": {
     "base_uri": "https://localhost:8080/",
     "height": 300
    },
    "id": "5bb23ef5",
    "outputId": "13b99d10-2940-4e89-9077-1b62e2f4f7e1"
   },
   "outputs": [],
   "source": [
    "#merge with T1 data\n",
    "img_dat = dti_dat.merge(t1_dat_use, on=['Site','SubjID'], suffixes=['','_T1'])\n",
    "img_dat.head()"
   ]
  },
  {
   "cell_type": "code",
   "execution_count": null,
   "id": "mNkOV5tD1DQQ",
   "metadata": {
    "id": "mNkOV5tD1DQQ"
   },
   "outputs": [],
   "source": [
    "#add DTI covariates\n",
    "dti_cov = pd.read_csv(mypath + \"cov_dti_matched.csv\")\n",
    "dti_cov.SDx = pd.to_numeric(dti_cov.SDx, errors='coerce')\n",
    "#dti_cov.head()\n",
    "#img_dat_bak = img_dat.copy()\n",
    "img_datx = img_dat.merge(dti_cov, left_on=[\"Site\",\"SubjID\"], right_on=[\"Site\",\"SubjID\"], suffixes=('', '_dti'))"
   ]
  },
  {
   "cell_type": "code",
   "execution_count": null,
   "id": "VsBpLlTC1Q1o",
   "metadata": {
    "id": "VsBpLlTC1Q1o"
   },
   "outputs": [],
   "source": [
    "img_dat = img_datx.copy()"
   ]
  },
  {
   "cell_type": "code",
   "execution_count": null,
   "id": "eRkNFNFQI9ce",
   "metadata": {
    "id": "eRkNFNFQI9ce"
   },
   "outputs": [],
   "source": [
    "#remove sujects with missing SDx_dti\n",
    "img_dat = img_dat[~np.isnan(img_dat.SDx_dti)]"
   ]
  },
  {
   "cell_type": "code",
   "execution_count": null,
   "id": "ae7a2ec6",
   "metadata": {
    "colab": {
     "base_uri": "https://localhost:8080/"
    },
    "id": "ae7a2ec6",
    "outputId": "ce2f00d8-fd28-4b74-a010-945688c989a9"
   },
   "outputs": [],
   "source": [
    "print(fa_dat3.shape)\n",
    "print(md_dat3.shape)\n",
    "print(t1_dat_use.shape)\n",
    "print(img_dat.shape)\n"
   ]
  },
  {
   "cell_type": "code",
   "execution_count": null,
   "id": "f5c9ee91",
   "metadata": {
    "colab": {
     "base_uri": "https://localhost:8080/",
     "height": 394
    },
    "id": "f5c9ee91",
    "outputId": "f8d7d576-8989-4af9-ff5a-7fa70db596ed"
   },
   "outputs": [],
   "source": [
    "fa_dat3.describe()"
   ]
  },
  {
   "cell_type": "code",
   "execution_count": null,
   "id": "f555b634",
   "metadata": {
    "colab": {
     "base_uri": "https://localhost:8080/",
     "height": 394
    },
    "id": "f555b634",
    "outputId": "64f3fe9d-edb2-40cf-b9e2-3b32114cd221"
   },
   "outputs": [],
   "source": [
    "md_dat3.describe()"
   ]
  },
  {
   "cell_type": "code",
   "execution_count": null,
   "id": "380dd066",
   "metadata": {
    "id": "380dd066"
   },
   "outputs": [],
   "source": [
    "def ridgePlotQuick(fname, my_df):\n",
    "    feat = fname\n",
    "    sns.set_theme(style=\"white\", rc={\"axes.facecolor\": (0, 0, 0, 0), 'axes.linewidth':2})\n",
    "\n",
    "    palette = sns.color_palette(\"Set2\", 12)\n",
    "\n",
    "    g = sns.FacetGrid(my_df, row=\"Site\", hue=\"Site\", aspect=9, height=1.2)\n",
    "\n",
    "    g.map_dataframe(sns.kdeplot, x=feat, fill=True, alpha=0.8)\n",
    "    g.map_dataframe(sns.kdeplot, x=feat, color='black')\n",
    "\n",
    "    def label(x, color, label):\n",
    "        ax = plt.gca()\n",
    "        ax.text(0, .2, label, color='black', fontsize=13,\n",
    "            ha=\"left\", va=\"center\", transform=ax.transAxes)\n",
    "    \n",
    "    g.map(label, \"Site\")\n",
    "\n",
    "    g.fig.subplots_adjust(hspace=-.5)\n",
    "    g.set_titles(\"\")\n",
    "    g.set(yticks=[])\n",
    "    g.despine(left=True)\n",
    "\n",
    "#g.set_titles(\"\")\n",
    "#g.set(yticks=[], ylabel=\"\", xlabel=nicerNames(feat) )\n",
    "#g.despine( left=True)\n"
   ]
  },
  {
   "cell_type": "code",
   "execution_count": null,
   "id": "f823de31",
   "metadata": {
    "colab": {
     "base_uri": "https://localhost:8080/",
     "height": 1000
    },
    "id": "f823de31",
    "outputId": "daccba75-d37b-4086-f754-035717afe232"
   },
   "outputs": [],
   "source": [
    "ridgePlotQuick('CC', fa_dat3)"
   ]
  },
  {
   "cell_type": "code",
   "execution_count": null,
   "id": "5b1f1d50",
   "metadata": {
    "colab": {
     "base_uri": "https://localhost:8080/",
     "height": 1000
    },
    "id": "5b1f1d50",
    "outputId": "0a20654b-efdf-41c5-bac2-a5a5b2b8ab03"
   },
   "outputs": [],
   "source": [
    "ridgePlotQuick('CC', md_dat3)"
   ]
  },
  {
   "cell_type": "code",
   "execution_count": null,
   "id": "27ea0dd0",
   "metadata": {
    "id": "27ea0dd0"
   },
   "outputs": [],
   "source": [
    "tmp = img_dat.describe()"
   ]
  },
  {
   "cell_type": "code",
   "execution_count": null,
   "id": "a05b2681",
   "metadata": {
    "colab": {
     "base_uri": "https://localhost:8080/"
    },
    "id": "a05b2681",
    "outputId": "a94fe24c-94cd-49e3-cfe1-581f70a4b786"
   },
   "outputs": [],
   "source": [
    "img_dat.columns.values"
   ]
  },
  {
   "cell_type": "code",
   "execution_count": null,
   "id": "766f909b",
   "metadata": {
    "colab": {
     "base_uri": "https://localhost:8080/"
    },
    "id": "766f909b",
    "outputId": "e0364e1b-18f1-41f1-e9eb-0b0804885728"
   },
   "outputs": [],
   "source": [
    "img_dat.SDx_dti.value_counts()"
   ]
  },
  {
   "cell_type": "code",
   "execution_count": null,
   "id": "7465f810",
   "metadata": {
    "colab": {
     "base_uri": "https://localhost:8080/"
    },
    "id": "7465f810",
    "outputId": "e71113a2-4ce5-4fed-c94a-1d4635a8af92"
   },
   "outputs": [],
   "source": [
    "#normalize FA\n",
    "fa = img_dat.loc[:,'CC_FA':'CG.R_FA']\n",
    "nc_fa = neuroCombat.neuroCombat(dat=fa.T, covars=img_dat, batch_col='Site', categorical_cols=['SDx_dti','Sex'], continuous_cols=['Age','ICV'] )\n"
   ]
  },
  {
   "cell_type": "code",
   "execution_count": null,
   "id": "b748cc2c",
   "metadata": {
    "colab": {
     "base_uri": "https://localhost:8080/"
    },
    "id": "b748cc2c",
    "outputId": "67d320db-038a-4354-ec6f-c4bac02d816a"
   },
   "outputs": [],
   "source": [
    "#normalize MD\n",
    "md = img_dat.loc[:,'CC_MD':'CG.R_MD']\n",
    "nc_md = neuroCombat.neuroCombat(dat=md.T, covars=img_dat, batch_col='Site', categorical_cols=['SDx_dti','Sex'], continuous_cols=['Age','ICV'] )\n",
    "#nc_md = neuroCombat.neuroCombat(dat=md.T, covars=img_dat, batch_col='Site', categorical_cols=['Dx','Sex'], continuous_cols=['Age'] )\n"
   ]
  },
  {
   "cell_type": "code",
   "execution_count": null,
   "id": "victorian-display",
   "metadata": {
    "colab": {
     "base_uri": "https://localhost:8080/"
    },
    "id": "victorian-display",
    "outputId": "59b33fbb-71e4-4447-bc6e-1eb792cbb40d"
   },
   "outputs": [],
   "source": [
    "#normalize T1\n",
    "t1w = img_dat.loc[:,'LLatVent':'R_cingulateC_volume']\n",
    "nc_t1w = neuroCombat.neuroCombat(dat=t1w.T, covars=img_dat, batch_col='Site', categorical_cols=['SDx_dti','Sex'], continuous_cols=['Age','ICV'] )\n"
   ]
  },
  {
   "cell_type": "code",
   "execution_count": null,
   "id": "8d471a47",
   "metadata": {
    "id": "8d471a47"
   },
   "outputs": [],
   "source": [
    "img_dat_nc = img_dat.copy()\n"
   ]
  },
  {
   "cell_type": "code",
   "execution_count": null,
   "id": "7724c45a",
   "metadata": {
    "id": "7724c45a"
   },
   "outputs": [],
   "source": [
    "img_dat_nc.loc[:,'CC_FA':'CG.R_FA'] = nc_fa['data'].T\n",
    "img_dat_nc.loc[:,'CC_MD':'CG.R_MD'] = nc_md['data'].T\n",
    "img_dat_nc.loc[:,'LLatVent':'R_cingulateC_volume'] = nc_t1w['data'].T"
   ]
  },
  {
   "cell_type": "code",
   "execution_count": null,
   "id": "b7d016b4",
   "metadata": {
    "colab": {
     "base_uri": "https://localhost:8080/",
     "height": 394
    },
    "id": "b7d016b4",
    "outputId": "bdb67974-5d45-4d8a-e0c7-03f19d8396c4"
   },
   "outputs": [],
   "source": [
    "img_dat_nc.loc[:,'CC_FA':'CG.R_FA'].describe()"
   ]
  },
  {
   "cell_type": "code",
   "execution_count": null,
   "id": "df197ff3",
   "metadata": {
    "colab": {
     "base_uri": "https://localhost:8080/",
     "height": 394
    },
    "id": "df197ff3",
    "outputId": "4e3ae018-3530-4fe5-e0ad-eb26890bda4f"
   },
   "outputs": [],
   "source": [
    "img_dat_nc.loc[:,'CC_MD':'CG.R_MD'].describe()"
   ]
  },
  {
   "cell_type": "code",
   "execution_count": null,
   "id": "superb-threat",
   "metadata": {
    "colab": {
     "base_uri": "https://localhost:8080/",
     "height": 394
    },
    "id": "superb-threat",
    "outputId": "5714e409-b53e-4686-87f8-2c59a849e4ad"
   },
   "outputs": [],
   "source": [
    "img_dat_nc.loc[:,'LLatVent':'R_cingulateC_volume'].describe()"
   ]
  },
  {
   "cell_type": "code",
   "execution_count": null,
   "id": "ffa5b2dc",
   "metadata": {
    "colab": {
     "base_uri": "https://localhost:8080/",
     "height": 1000
    },
    "id": "ffa5b2dc",
    "outputId": "4c43b676-c4b2-4f27-fa51-eb2c5d0f7416"
   },
   "outputs": [],
   "source": [
    "ridgePlotQuick('CC_FA', img_dat_nc)"
   ]
  },
  {
   "cell_type": "code",
   "execution_count": null,
   "id": "cc077565",
   "metadata": {
    "colab": {
     "base_uri": "https://localhost:8080/",
     "height": 1000
    },
    "id": "cc077565",
    "outputId": "3214a842-aa76-473b-e467-e2508a55e407"
   },
   "outputs": [],
   "source": [
    "ridgePlotQuick('CC_MD', img_dat_nc)"
   ]
  },
  {
   "cell_type": "code",
   "execution_count": null,
   "id": "solar-rochester",
   "metadata": {
    "colab": {
     "base_uri": "https://localhost:8080/",
     "height": 1000
    },
    "id": "solar-rochester",
    "outputId": "8bec1b54-f1e5-4c56-bb8a-4560d4ca6076"
   },
   "outputs": [],
   "source": [
    "ridgePlotQuick('Rhippo', img_dat_nc)"
   ]
  },
  {
   "cell_type": "code",
   "execution_count": null,
   "id": "three-portfolio",
   "metadata": {
    "colab": {
     "base_uri": "https://localhost:8080/",
     "height": 299
    },
    "id": "three-portfolio",
    "outputId": "ee0d168e-c059-4c52-9b4c-1e79bbd3e564"
   },
   "outputs": [],
   "source": [
    "mycols = ['b','r']\n",
    "mycvec = [ mycols[x] for x in img_dat.Dx.values]\n",
    "plt.scatter(img_dat_nc.ICV, img_dat_nc.Lhippo, c=mycvec)"
   ]
  },
  {
   "cell_type": "markdown",
   "id": "respiratory-municipality",
   "metadata": {
    "id": "respiratory-municipality"
   },
   "source": [
    "# Create normative model wrt Age for controls"
   ]
  },
  {
   "cell_type": "code",
   "execution_count": null,
   "id": "sacred-stamp",
   "metadata": {
    "id": "sacred-stamp"
   },
   "outputs": [],
   "source": [
    "from sklearn.linear_model import LinearRegression\n",
    "from sklearn.gaussian_process import GaussianProcessRegressor\n",
    "from sklearn.gaussian_process.kernels import RBF, DotProduct, WhiteKernel, ConstantKernel as C\n",
    "from sklearn.preprocessing import StandardScaler"
   ]
  },
  {
   "cell_type": "code",
   "execution_count": null,
   "id": "valuable-tokyo",
   "metadata": {
    "id": "valuable-tokyo"
   },
   "outputs": [],
   "source": [
    "img_dat_nc_controls = img_dat_nc[(img_dat_nc.Dx==0)]"
   ]
  },
  {
   "cell_type": "markdown",
   "id": "civil-charge",
   "metadata": {
    "id": "civil-charge"
   },
   "source": [
    "### Pack the GPR into a few neat functions"
   ]
  },
  {
   "cell_type": "code",
   "execution_count": null,
   "id": "joint-acceptance",
   "metadata": {
    "id": "joint-acceptance"
   },
   "outputs": [],
   "source": [
    "def fitNormGP(mydf, cov, yname):\n",
    "    use_kernel = C() * RBF() + WhiteKernel(noise_level_bounds=(1e-06, 100000.0))\n",
    "    myGPR = GaussianProcessRegressor(n_restarts_optimizer=5, kernel=use_kernel, normalize_y=True)\n",
    "    \n",
    "    X = mydf.loc[:, cov]\n",
    "    tmp_scale = StandardScaler()\n",
    "    Xsc = tmp_scale.fit_transform(X)\n",
    "    \n",
    "    y = mydf.loc[:, yname]\n",
    "    \n",
    "    myGPR.fit(Xsc, y)\n",
    "    \n",
    "    res = {}\n",
    "    res['target'] = yname\n",
    "    res['cov'] = cov\n",
    "    res['scaler'] = tmp_scale\n",
    "    res['GPR'] = myGPR\n",
    "    return(res)"
   ]
  },
  {
   "cell_type": "code",
   "execution_count": null,
   "id": "latter-capture",
   "metadata": {
    "id": "latter-capture"
   },
   "outputs": [],
   "source": [
    "def feat2z(mydf, gpmodel):\n",
    "    #assert(gpmodel['target'] == yname)\n",
    "    yname = gpmodel['target']\n",
    "    cov = gpmodel['cov']\n",
    "    X = mydf.loc[:,cov]\n",
    "    y = mydf.loc[:, yname]\n",
    "    \n",
    "    Xinp = gpmodel['scaler'].transform(X)\n",
    "    \n",
    "    means, sds = gpmodel['GPR'].predict(Xinp, return_std=True)\n",
    "    \n",
    "    myz = (y-means)/sds\n",
    "    \n",
    "    return(myz)"
   ]
  },
  {
   "cell_type": "code",
   "execution_count": null,
   "id": "explicit-perry",
   "metadata": {
    "id": "explicit-perry"
   },
   "outputs": [],
   "source": [
    "def plotGPax(mydf, gpmodel, var=0):\n",
    "\n",
    "    cov = gpmodel['cov']\n",
    "    X = mydf.loc[:,cov]\n",
    "    Xinp = gpmodel['scaler'].transform(X)\n",
    "    \n",
    "    nx = 1000\n",
    "    x1 = np.linspace(np.min(Xinp[:,var]), np.max(Xinp[:,var]), nx)\n",
    "    xx = np.zeros( (nx, X.shape[1]) )\n",
    "    xx[:,var] = x1\n",
    "    mm, ss = gpmodel['GPR'].predict(xx, return_std=True)\n",
    "\n",
    "    x1p = x1 * np.sqrt(gpmodel['scaler'].var_[var]) + gpmodel['scaler'].mean_[var]\n",
    "    \n",
    "    fig, ax = plt.subplots()\n",
    "    ax.fill_between(x1p, mm-1*ss, mm+1*ss, alpha=0.5, linewidth=0)\n",
    "    ax.fill_between(x1p, mm-1.96*ss, mm+1.96*ss, alpha=0.5, linewidth=0)\n",
    "    ax.plot(x1p, mm, linewidth=2)\n",
    "    \n",
    "    ax.set_ylabel(gpmodel['target'])\n",
    "    ax.set_xlabel(cov[var])\n",
    "\n",
    "    plt.show()\n",
    "    "
   ]
  },
  {
   "cell_type": "markdown",
   "id": "3a36756b",
   "metadata": {
    "id": "3a36756b"
   },
   "source": [
    "# Regress out age, sex"
   ]
  },
  {
   "cell_type": "code",
   "execution_count": null,
   "id": "alpha-yellow",
   "metadata": {
    "id": "alpha-yellow"
   },
   "outputs": [],
   "source": [
    "img_dat_nc_ZGP = img_dat_nc.copy()"
   ]
  },
  {
   "cell_type": "code",
   "execution_count": null,
   "id": "pursuant-vanilla",
   "metadata": {
    "id": "pursuant-vanilla"
   },
   "outputs": [],
   "source": [
    "tfeat = list(img_dat_nc.loc[:,'CC_FA':'CG.R_MD'].columns.values)\n",
    "tfeat.extend(img_dat_nc.loc[:, 'LLatVent':'R_cingulateC_volume'])"
   ]
  },
  {
   "cell_type": "code",
   "execution_count": null,
   "id": "severe-shaft",
   "metadata": {
    "colab": {
     "base_uri": "https://localhost:8080/"
    },
    "id": "severe-shaft",
    "outputId": "71bae75a-c1cf-406f-c0f6-15f02a339756"
   },
   "outputs": [],
   "source": [
    "for fff in tfeat:\n",
    "    sys.stderr.write(\"Estimating model for \" + fff + \"\\n\" )\n",
    "    tmp_mod = fitNormGP(img_dat_nc_controls, ['Age','ICV'], fff)\n",
    "    tmpz    = feat2z(img_dat_nc, tmp_mod)\n",
    "    img_dat_nc_ZGP.loc[:,fff] = tmpz"
   ]
  },
  {
   "cell_type": "code",
   "execution_count": null,
   "id": "compact-console",
   "metadata": {
    "colab": {
     "base_uri": "https://localhost:8080/",
     "height": 285
    },
    "id": "compact-console",
    "outputId": "eb3a734e-a01c-43ba-c23b-ce6a654ad028"
   },
   "outputs": [],
   "source": [
    "plotGPax(img_dat_nc_ZGP, tmp_mod, 0)"
   ]
  },
  {
   "cell_type": "code",
   "execution_count": null,
   "id": "square-sunglasses",
   "metadata": {
    "id": "square-sunglasses"
   },
   "outputs": [],
   "source": [
    "#Use z-scores as input into SuStaIn\n",
    "img_dat_nc_ZGP.to_csv(\"./all_feat_GPzscores_20220715.csv\")"
   ]
  },
  {
   "cell_type": "code",
   "execution_count": null,
   "id": "6773eb68",
   "metadata": {},
   "outputs": [],
   "source": []
  },
  {
   "cell_type": "code",
   "execution_count": null,
   "id": "58c9a8e3",
   "metadata": {},
   "outputs": [],
   "source": []
  },
  {
   "cell_type": "code",
   "execution_count": null,
   "id": "20431e2d",
   "metadata": {},
   "outputs": [],
   "source": []
  }
 ],
 "metadata": {
  "colab": {
   "name": "Data_Preprocessing.ipynb",
   "provenance": []
  },
  "kernelspec": {
   "display_name": "Python 3 (ipykernel)",
   "language": "python",
   "name": "python3"
  },
  "language_info": {
   "codemirror_mode": {
    "name": "ipython",
    "version": 3
   },
   "file_extension": ".py",
   "mimetype": "text/x-python",
   "name": "python",
   "nbconvert_exporter": "python",
   "pygments_lexer": "ipython3",
   "version": "3.9.5"
  }
 },
 "nbformat": 4,
 "nbformat_minor": 5
}
